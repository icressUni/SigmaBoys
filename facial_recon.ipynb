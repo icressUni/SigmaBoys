{
 "cells": [
  {
   "cell_type": "code",
   "execution_count": 1,
   "metadata": {},
   "outputs": [],
   "source": [
    "import face_recognition\n",
    "import os, sys\n",
    "import cv2\n",
    "import numpy as np\n",
    "import math"
   ]
  },
  {
   "cell_type": "code",
   "execution_count": null,
   "metadata": {},
   "outputs": [
    {
     "data": {
      "text/plain": [
       "-1"
      ]
     },
     "execution_count": 5,
     "metadata": {},
     "output_type": "execute_result"
    }
   ],
   "source": [
    "import cv2\n",
    "\n",
    "img = cv2.imread('image.jpg')\n",
    "\n",
    "cv2.imshow('Image', img)\n",
    "cv2.waitKey(0)\n",
    "#oli"
   ]
  },
  {
   "cell_type": "code",
   "execution_count": 6,
   "metadata": {},
   "outputs": [
    {
     "name": "stdout",
     "output_type": "stream",
     "text": [
      "face_image_encodings: [-0.09845468  0.01625447  0.02332346  0.01001488 -0.04612962  0.01842581\n",
      " -0.06964554 -0.10699138  0.15465328 -0.03715706  0.23073959  0.02320622\n",
      " -0.25251725 -0.02446893  0.02454933  0.12453987 -0.09646164 -0.1331812\n",
      " -0.05011172  0.00309733  0.04137759  0.07872947  0.02073788  0.08951613\n",
      " -0.13320771 -0.31909928 -0.0266559  -0.17681997  0.01375719 -0.10046207\n",
      " -0.07718664  0.04137538 -0.09598592  0.01252296  0.07819108  0.03136981\n",
      " -0.04590725 -0.07848373  0.24784338  0.09417851 -0.17443231  0.0514416\n",
      " -0.01895836  0.20548728  0.11226749  0.04793255  0.03565768 -0.10268201\n",
      "  0.13712631 -0.30131102  0.07763261  0.13341351  0.11487656  0.02902473\n",
      "  0.12729715 -0.23279262 -0.00845373  0.12459449 -0.27904469  0.1636288\n",
      " -0.0019316  -0.02995491 -0.00367536 -0.07595484  0.21626322  0.14322986\n",
      " -0.1489014  -0.02898763  0.11412504 -0.08915456 -0.08351523  0.07452131\n",
      " -0.1158954  -0.26842988 -0.22065689  0.07172944  0.35144648  0.186877\n",
      " -0.24387215  0.01155113  0.00639512 -0.04888798  0.00482557  0.05951427\n",
      " -0.10153721 -0.0474649  -0.0518809  -0.06077365  0.1670492   0.08990135\n",
      "  0.0105573   0.29450104 -0.03746862  0.07085738  0.033857    0.04666799\n",
      " -0.10927768 -0.11400497 -0.09011263 -0.11073499 -0.0276107  -0.0635836\n",
      "  0.05393593  0.11179795 -0.20609778  0.12534121 -0.07382847 -0.06014713\n",
      " -0.00630228  0.06105033 -0.04986313  0.02211442  0.10592732 -0.26352936\n",
      "  0.21216768  0.12529224  0.1421193   0.13185409  0.01081742 -0.01293045\n",
      " -0.03592757  0.00492744 -0.18985823 -0.08806026  0.09319296 -0.03361572\n",
      "  0.0359826   0.03803701]\n"
     ]
    },
    {
     "ename": "KeyboardInterrupt",
     "evalue": "",
     "output_type": "error",
     "traceback": [
      "\u001b[1;31m---------------------------------------------------------------------------\u001b[0m",
      "\u001b[1;31mKeyboardInterrupt\u001b[0m                         Traceback (most recent call last)",
      "Cell \u001b[1;32mIn[6], line 26\u001b[0m\n\u001b[0;32m     23\u001b[0m \u001b[38;5;28;01mif\u001b[39;00m ret \u001b[38;5;241m==\u001b[39m \u001b[38;5;28;01mFalse\u001b[39;00m: \u001b[38;5;28;01mbreak\u001b[39;00m\n\u001b[0;32m     24\u001b[0m frame \u001b[38;5;241m=\u001b[39m cv2\u001b[38;5;241m.\u001b[39mflip(frame, \u001b[38;5;241m1\u001b[39m)\n\u001b[1;32m---> 26\u001b[0m face_locations \u001b[38;5;241m=\u001b[39m \u001b[43mface_recognition\u001b[49m\u001b[38;5;241;43m.\u001b[39;49m\u001b[43mface_locations\u001b[49m\u001b[43m(\u001b[49m\u001b[43mframe\u001b[49m\u001b[43m,\u001b[49m\u001b[43m \u001b[49m\u001b[43mmodel\u001b[49m\u001b[38;5;241;43m=\u001b[39;49m\u001b[38;5;124;43m\"\u001b[39;49m\u001b[38;5;124;43mcnn\u001b[39;49m\u001b[38;5;124;43m\"\u001b[39;49m\u001b[43m)\u001b[49m\n\u001b[0;32m     27\u001b[0m \u001b[38;5;28;01mif\u001b[39;00m face_locations \u001b[38;5;241m!=\u001b[39m []:\n\u001b[0;32m     28\u001b[0m      \u001b[38;5;28;01mfor\u001b[39;00m face_location \u001b[38;5;129;01min\u001b[39;00m face_locations:\n",
      "File \u001b[1;32mc:\\Users\\felip\\OneDrive\\Documentos\\GitHub\\SigmaBoys\\venv\\lib\\site-packages\\face_recognition\\api.py:119\u001b[0m, in \u001b[0;36mface_locations\u001b[1;34m(img, number_of_times_to_upsample, model)\u001b[0m\n\u001b[0;32m    109\u001b[0m \u001b[38;5;250m\u001b[39m\u001b[38;5;124;03m\"\"\"\u001b[39;00m\n\u001b[0;32m    110\u001b[0m \u001b[38;5;124;03mReturns an array of bounding boxes of human faces in a image\u001b[39;00m\n\u001b[0;32m    111\u001b[0m \n\u001b[1;32m   (...)\u001b[0m\n\u001b[0;32m    116\u001b[0m \u001b[38;5;124;03m:return: A list of tuples of found face locations in css (top, right, bottom, left) order\u001b[39;00m\n\u001b[0;32m    117\u001b[0m \u001b[38;5;124;03m\"\"\"\u001b[39;00m\n\u001b[0;32m    118\u001b[0m \u001b[38;5;28;01mif\u001b[39;00m model \u001b[38;5;241m==\u001b[39m \u001b[38;5;124m\"\u001b[39m\u001b[38;5;124mcnn\u001b[39m\u001b[38;5;124m\"\u001b[39m:\n\u001b[1;32m--> 119\u001b[0m     \u001b[38;5;28;01mreturn\u001b[39;00m [_trim_css_to_bounds(_rect_to_css(face\u001b[38;5;241m.\u001b[39mrect), img\u001b[38;5;241m.\u001b[39mshape) \u001b[38;5;28;01mfor\u001b[39;00m face \u001b[38;5;129;01min\u001b[39;00m \u001b[43m_raw_face_locations\u001b[49m\u001b[43m(\u001b[49m\u001b[43mimg\u001b[49m\u001b[43m,\u001b[49m\u001b[43m \u001b[49m\u001b[43mnumber_of_times_to_upsample\u001b[49m\u001b[43m,\u001b[49m\u001b[43m \u001b[49m\u001b[38;5;124;43m\"\u001b[39;49m\u001b[38;5;124;43mcnn\u001b[39;49m\u001b[38;5;124;43m\"\u001b[39;49m\u001b[43m)\u001b[49m]\n\u001b[0;32m    120\u001b[0m \u001b[38;5;28;01melse\u001b[39;00m:\n\u001b[0;32m    121\u001b[0m     \u001b[38;5;28;01mreturn\u001b[39;00m [_trim_css_to_bounds(_rect_to_css(face), img\u001b[38;5;241m.\u001b[39mshape) \u001b[38;5;28;01mfor\u001b[39;00m face \u001b[38;5;129;01min\u001b[39;00m _raw_face_locations(img, number_of_times_to_upsample, model)]\n",
      "\u001b[1;31mKeyboardInterrupt\u001b[0m: "
     ]
    }
   ],
   "source": [
    "import cv2\n",
    "import face_recognition\n",
    "\n",
    "# Imagen a comparar\n",
    "image = cv2.imread(\"faces/Felipe_Cespedes_Urzua.jpg\")\n",
    "face_loc = face_recognition.face_locations(image)[0]\n",
    "#print(\"face_loc:\", face_loc)\n",
    "face_image_encodings = face_recognition.face_encodings(image, known_face_locations=[face_loc])[0]\n",
    "print(\"face_image_encodings:\", face_image_encodings)\n",
    "'''\n",
    "cv2.rectangle(image, (face_loc[3], face_loc[0]), (face_loc[1], face_loc[2]), (0, 255, 0))\n",
    "cv2.imshow(\"Image\", image)\n",
    "cv2.waitKey(0)\n",
    "cv2.destroyAllWindows()'''\n",
    "\n",
    "######################################################################################\n",
    "# Video Streaming\n",
    "\n",
    "cap = cv2.VideoCapture(0, cv2.CAP_DSHOW)\n",
    "\n",
    "while True:\n",
    "     ret, frame = cap.read()\n",
    "     if ret == False: break\n",
    "     frame = cv2.flip(frame, 1)\n",
    "\n",
    "     face_locations = face_recognition.face_locations(frame, model=\"cnn\")\n",
    "     if face_locations != []:\n",
    "          for face_location in face_locations:\n",
    "               face_frame_encodings = face_recognition.face_encodings(frame, known_face_locations=[face_location])[0]\n",
    "               result = face_recognition.compare_faces([face_image_encodings], face_frame_encodings)\n",
    "               #print(\"Result:\", result)\n",
    "\n",
    "               if result[0] == True:\n",
    "                    text = \"Gaby\"\n",
    "                    color = (125, 220, 0)\n",
    "               else:\n",
    "                    text = \"Desconocido\"\n",
    "                    color = (50, 50, 255)\n",
    "\n",
    "               cv2.rectangle(frame, (face_location[3], face_location[2]), (face_location[1], face_location[2] + 30), color, -1)\n",
    "               cv2.rectangle(frame, (face_location[3], face_location[0]), (face_location[1], face_location[2]), color, 2)\n",
    "               cv2.putText(frame, text, (face_location[3], face_location[2] + 20), 2, 0.7, (255, 255, 255), 1)\n",
    "\n",
    "\n",
    "     cv2.imshow(\"Frame\", frame)\n",
    "     k = cv2.waitKey(1)\n",
    "     if k == 27 & 0xFF:\n",
    "          break\n",
    "\n",
    "cap.release()\n",
    "cv2.destroyAllWindows()"
   ]
  },
  {
   "cell_type": "code",
   "execution_count": 13,
   "metadata": {},
   "outputs": [
    {
     "name": "stdout",
     "output_type": "stream",
     "text": [
      "['Felipe_Cespedes_Urzua.jpg']\n",
      "['Felipe_Cespedes_Urzua.jpg', 'Mateo_Moreira.jpeg']\n"
     ]
    },
    {
     "ename": "TypeError",
     "evalue": "compute_face_descriptor(): incompatible function arguments. The following argument types are supported:\n    1. (self: _dlib_pybind11.face_recognition_model_v1, img: numpy.ndarray[(rows,cols,3),numpy.uint8], face: _dlib_pybind11.full_object_detection, num_jitters: int = 0, padding: float = 0.25) -> _dlib_pybind11.vector\n    2. (self: _dlib_pybind11.face_recognition_model_v1, img: numpy.ndarray[(rows,cols,3),numpy.uint8], num_jitters: int = 0) -> _dlib_pybind11.vector\n    3. (self: _dlib_pybind11.face_recognition_model_v1, img: numpy.ndarray[(rows,cols,3),numpy.uint8], faces: _dlib_pybind11.full_object_detections, num_jitters: int = 0, padding: float = 0.25) -> _dlib_pybind11.vectors\n    4. (self: _dlib_pybind11.face_recognition_model_v1, batch_img: list[numpy.ndarray[(rows,cols,3),numpy.uint8]], batch_faces: list[_dlib_pybind11.full_object_detections], num_jitters: int = 0, padding: float = 0.25) -> _dlib_pybind11.vectorss\n    5. (self: _dlib_pybind11.face_recognition_model_v1, batch_img: list[numpy.ndarray[(rows,cols,3),numpy.uint8]], num_jitters: int = 0) -> _dlib_pybind11.vectors\n\nInvoked with: <_dlib_pybind11.face_recognition_model_v1 object at 0x0000018ACC916CB0>, array([[[129, 127, 129],\n        [133, 132, 131],\n        [135, 134, 132],\n        ...,\n        [255, 255, 251],\n        [255, 255, 251],\n        [255, 255, 251]],\n\n       [[129, 127, 130],\n        [133, 132, 131],\n        [137, 136, 134],\n        ...,\n        [255, 255, 251],\n        [255, 255, 251],\n        [255, 255, 251]],\n\n       [[129, 127, 129],\n        [131, 129, 131],\n        [135, 133, 135],\n        ...,\n        [255, 255, 251],\n        [255, 255, 253],\n        [255, 255, 254]],\n\n       ...,\n\n       [[122, 121, 121],\n        [120, 119, 117],\n        [117, 116, 113],\n        ...,\n        [160, 160, 153],\n        [164, 163, 160],\n        [163, 162, 158]],\n\n       [[121, 120, 117],\n        [118, 117, 117],\n        [116, 114, 116],\n        ...,\n        [159, 159, 154],\n        [162, 161, 160],\n        [162, 161, 161]],\n\n       [[120, 119, 116],\n        [115, 114, 114],\n        [114, 112, 114],\n        ...,\n        [159, 159, 151],\n        [161, 160, 155],\n        [161, 160, 159]]], shape=(120, 160, 3), dtype=uint8), <_dlib_pybind11.full_object_detection object at 0x0000018AF3844CB0>, 1",
     "output_type": "error",
     "traceback": [
      "\u001b[1;31m---------------------------------------------------------------------------\u001b[0m",
      "\u001b[1;31mTypeError\u001b[0m                                 Traceback (most recent call last)",
      "Cell \u001b[1;32mIn[13], line 97\u001b[0m\n\u001b[0;32m     95\u001b[0m \u001b[38;5;28;01mif\u001b[39;00m \u001b[38;5;18m__name__\u001b[39m \u001b[38;5;241m==\u001b[39m \u001b[38;5;124m\"\u001b[39m\u001b[38;5;124m__main__\u001b[39m\u001b[38;5;124m\"\u001b[39m:\n\u001b[0;32m     96\u001b[0m     fr \u001b[38;5;241m=\u001b[39m FaceRecognition()\n\u001b[1;32m---> 97\u001b[0m     \u001b[43mfr\u001b[49m\u001b[38;5;241;43m.\u001b[39;49m\u001b[43mrun_recognition\u001b[49m\u001b[43m(\u001b[49m\u001b[43m)\u001b[49m\n",
      "Cell \u001b[1;32mIn[13], line 56\u001b[0m, in \u001b[0;36mFaceRecognition.run_recognition\u001b[1;34m(self)\u001b[0m\n\u001b[0;32m     53\u001b[0m rgb_small_frame \u001b[38;5;241m=\u001b[39m small_frame[:, :, ::\u001b[38;5;241m-\u001b[39m\u001b[38;5;241m1\u001b[39m]\n\u001b[0;32m     55\u001b[0m \u001b[38;5;28mself\u001b[39m\u001b[38;5;241m.\u001b[39mface_locations \u001b[38;5;241m=\u001b[39m face_recognition\u001b[38;5;241m.\u001b[39mface_locations(rgb_small_frame)\n\u001b[1;32m---> 56\u001b[0m \u001b[38;5;28mself\u001b[39m\u001b[38;5;241m.\u001b[39mface_encodings \u001b[38;5;241m=\u001b[39m \u001b[43mface_recognition\u001b[49m\u001b[38;5;241;43m.\u001b[39;49m\u001b[43mface_encodings\u001b[49m\u001b[43m(\u001b[49m\u001b[43mrgb_small_frame\u001b[49m\u001b[43m,\u001b[49m\u001b[43m \u001b[49m\u001b[38;5;28;43mself\u001b[39;49m\u001b[38;5;241;43m.\u001b[39;49m\u001b[43mface_locations\u001b[49m\u001b[43m)\u001b[49m\n\u001b[0;32m     58\u001b[0m \u001b[38;5;28mself\u001b[39m\u001b[38;5;241m.\u001b[39mface_names \u001b[38;5;241m=\u001b[39m []\n\u001b[0;32m     59\u001b[0m \u001b[38;5;28;01mfor\u001b[39;00m face_encoding \u001b[38;5;129;01min\u001b[39;00m \u001b[38;5;28mself\u001b[39m\u001b[38;5;241m.\u001b[39mface_encodings:\n",
      "File \u001b[1;32mc:\\Users\\felip\\AppData\\Local\\Programs\\Python\\Python310\\lib\\site-packages\\face_recognition\\api.py:214\u001b[0m, in \u001b[0;36mface_encodings\u001b[1;34m(face_image, known_face_locations, num_jitters, model)\u001b[0m\n\u001b[0;32m    204\u001b[0m \u001b[38;5;250m\u001b[39m\u001b[38;5;124;03m\"\"\"\u001b[39;00m\n\u001b[0;32m    205\u001b[0m \u001b[38;5;124;03mGiven an image, return the 128-dimension face encoding for each face in the image.\u001b[39;00m\n\u001b[0;32m    206\u001b[0m \n\u001b[1;32m   (...)\u001b[0m\n\u001b[0;32m    211\u001b[0m \u001b[38;5;124;03m:return: A list of 128-dimensional face encodings (one for each face in the image)\u001b[39;00m\n\u001b[0;32m    212\u001b[0m \u001b[38;5;124;03m\"\"\"\u001b[39;00m\n\u001b[0;32m    213\u001b[0m raw_landmarks \u001b[38;5;241m=\u001b[39m _raw_face_landmarks(face_image, known_face_locations, model)\n\u001b[1;32m--> 214\u001b[0m \u001b[38;5;28;01mreturn\u001b[39;00m [np\u001b[38;5;241m.\u001b[39marray(face_encoder\u001b[38;5;241m.\u001b[39mcompute_face_descriptor(face_image, raw_landmark_set, num_jitters)) \u001b[38;5;28;01mfor\u001b[39;00m raw_landmark_set \u001b[38;5;129;01min\u001b[39;00m raw_landmarks]\n",
      "File \u001b[1;32mc:\\Users\\felip\\AppData\\Local\\Programs\\Python\\Python310\\lib\\site-packages\\face_recognition\\api.py:214\u001b[0m, in \u001b[0;36m<listcomp>\u001b[1;34m(.0)\u001b[0m\n\u001b[0;32m    204\u001b[0m \u001b[38;5;250m\u001b[39m\u001b[38;5;124;03m\"\"\"\u001b[39;00m\n\u001b[0;32m    205\u001b[0m \u001b[38;5;124;03mGiven an image, return the 128-dimension face encoding for each face in the image.\u001b[39;00m\n\u001b[0;32m    206\u001b[0m \n\u001b[1;32m   (...)\u001b[0m\n\u001b[0;32m    211\u001b[0m \u001b[38;5;124;03m:return: A list of 128-dimensional face encodings (one for each face in the image)\u001b[39;00m\n\u001b[0;32m    212\u001b[0m \u001b[38;5;124;03m\"\"\"\u001b[39;00m\n\u001b[0;32m    213\u001b[0m raw_landmarks \u001b[38;5;241m=\u001b[39m _raw_face_landmarks(face_image, known_face_locations, model)\n\u001b[1;32m--> 214\u001b[0m \u001b[38;5;28;01mreturn\u001b[39;00m [np\u001b[38;5;241m.\u001b[39marray(\u001b[43mface_encoder\u001b[49m\u001b[38;5;241;43m.\u001b[39;49m\u001b[43mcompute_face_descriptor\u001b[49m\u001b[43m(\u001b[49m\u001b[43mface_image\u001b[49m\u001b[43m,\u001b[49m\u001b[43m \u001b[49m\u001b[43mraw_landmark_set\u001b[49m\u001b[43m,\u001b[49m\u001b[43m \u001b[49m\u001b[43mnum_jitters\u001b[49m\u001b[43m)\u001b[49m) \u001b[38;5;28;01mfor\u001b[39;00m raw_landmark_set \u001b[38;5;129;01min\u001b[39;00m raw_landmarks]\n",
      "\u001b[1;31mTypeError\u001b[0m: compute_face_descriptor(): incompatible function arguments. The following argument types are supported:\n    1. (self: _dlib_pybind11.face_recognition_model_v1, img: numpy.ndarray[(rows,cols,3),numpy.uint8], face: _dlib_pybind11.full_object_detection, num_jitters: int = 0, padding: float = 0.25) -> _dlib_pybind11.vector\n    2. (self: _dlib_pybind11.face_recognition_model_v1, img: numpy.ndarray[(rows,cols,3),numpy.uint8], num_jitters: int = 0) -> _dlib_pybind11.vector\n    3. (self: _dlib_pybind11.face_recognition_model_v1, img: numpy.ndarray[(rows,cols,3),numpy.uint8], faces: _dlib_pybind11.full_object_detections, num_jitters: int = 0, padding: float = 0.25) -> _dlib_pybind11.vectors\n    4. (self: _dlib_pybind11.face_recognition_model_v1, batch_img: list[numpy.ndarray[(rows,cols,3),numpy.uint8]], batch_faces: list[_dlib_pybind11.full_object_detections], num_jitters: int = 0, padding: float = 0.25) -> _dlib_pybind11.vectorss\n    5. (self: _dlib_pybind11.face_recognition_model_v1, batch_img: list[numpy.ndarray[(rows,cols,3),numpy.uint8]], num_jitters: int = 0) -> _dlib_pybind11.vectors\n\nInvoked with: <_dlib_pybind11.face_recognition_model_v1 object at 0x0000018ACC916CB0>, array([[[129, 127, 129],\n        [133, 132, 131],\n        [135, 134, 132],\n        ...,\n        [255, 255, 251],\n        [255, 255, 251],\n        [255, 255, 251]],\n\n       [[129, 127, 130],\n        [133, 132, 131],\n        [137, 136, 134],\n        ...,\n        [255, 255, 251],\n        [255, 255, 251],\n        [255, 255, 251]],\n\n       [[129, 127, 129],\n        [131, 129, 131],\n        [135, 133, 135],\n        ...,\n        [255, 255, 251],\n        [255, 255, 253],\n        [255, 255, 254]],\n\n       ...,\n\n       [[122, 121, 121],\n        [120, 119, 117],\n        [117, 116, 113],\n        ...,\n        [160, 160, 153],\n        [164, 163, 160],\n        [163, 162, 158]],\n\n       [[121, 120, 117],\n        [118, 117, 117],\n        [116, 114, 116],\n        ...,\n        [159, 159, 154],\n        [162, 161, 160],\n        [162, 161, 161]],\n\n       [[120, 119, 116],\n        [115, 114, 114],\n        [114, 112, 114],\n        ...,\n        [159, 159, 151],\n        [161, 160, 155],\n        [161, 160, 159]]], shape=(120, 160, 3), dtype=uint8), <_dlib_pybind11.full_object_detection object at 0x0000018AF3844CB0>, 1"
     ]
    }
   ],
   "source": [
    "def face_confidence(face_distance, face_match_threshold=0.7):\n",
    "    range = (1.0 - face_match_threshold)\n",
    "    linear_val = (1.0 - face_distance) / (range * 2.0)\n",
    "\n",
    "    if face_distance > face_match_threshold:\n",
    "        return str(round(linear_val * 100, 2)) + \"%\"\n",
    "    else:\n",
    "        value = (linear_val +((1.0 - linear_val) * math.pow((linear_val - 0.5) * 2, 0.2))) * 100\n",
    "        return str(round(value, 2)) + \"%\"\n",
    " \n",
    "\n",
    "class FaceRecognition:\n",
    "    face_locations = []\n",
    "    face_encodings = []\n",
    "    face_names = []\n",
    "    known_face_encodings = []\n",
    "    known_face_names = []\n",
    "    process_current_frame = True\n",
    "\n",
    "    def __init__(self):\n",
    "        self.encode_faces()\n",
    "        # encode faces\n",
    "\n",
    "    def encode_faces(self):\n",
    "        for image in os.listdir(\"faces\"):\n",
    "            face_image = face_recognition.load_image_file(\"faces/\" + image)\n",
    "            face_locations = face_recognition.face_locations(face_image)\n",
    "            if len(face_locations) > 0:\n",
    "                face_encoding = face_recognition.face_encodings(face_image, face_locations)[0]\n",
    "            else:\n",
    "                print(f\"No face detected in image: {image}\")\n",
    "                continue\n",
    "\n",
    "            self.known_face_encodings.append(face_encoding)\n",
    "            self.known_face_names.append(image)\n",
    "\n",
    "            print(self.known_face_names)\n",
    "\n",
    "    def run_recognition(self):\n",
    "        video_capture = cv2.VideoCapture(0)\n",
    "\n",
    "        if not video_capture.isOpened():\n",
    "            sys.exit(\"Could not open video device\")\n",
    "\n",
    "        while True:\n",
    "            ret, frame = video_capture.read()\n",
    "\n",
    "            if not ret:\n",
    "                break\n",
    "\n",
    "            if self.process_current_frame:\n",
    "                small_frame = cv2.resize(frame, (0, 0), fx=0.25, fy=0.25)\n",
    "                rgb_small_frame = small_frame[:, :, ::-1]\n",
    "\n",
    "                self.face_locations = face_recognition.face_locations(rgb_small_frame)\n",
    "                self.face_encodings = face_recognition.face_encodings(rgb_small_frame, self.face_locations)\n",
    "\n",
    "                self.face_names = []\n",
    "                for face_encoding in self.face_encodings:\n",
    "                    matches = face_recognition.compare_faces(self.known_face_encodings, face_encoding)\n",
    "                    name = \"Unknown\"\n",
    "                    confidence = \"Unknown\"\n",
    "\n",
    "                    face_distances = face_recognition.face_distance(self.known_face_encodings, face_encoding)\n",
    "                    best_match_index = np.argmin(face_distances)\n",
    "                    if matches[best_match_index]:\n",
    "                        name = self.known_face_names[best_match_index]\n",
    "                        confidence = face_confidence(face_distances[best_match_index])\n",
    "\n",
    "                    self.face_names.append(f\"{name} ({confidence})\")\n",
    "\n",
    "            self.process_current_frame = not self.process_current_frame\n",
    "\n",
    "            for (top, right, bottom, left), name in zip(self.face_locations, self.face_names):\n",
    "                top *= 4\n",
    "                right *= 4\n",
    "                bottom *= 4\n",
    "                left *= 4\n",
    "\n",
    "                cv2.rectangle(frame, (left, top), (right, bottom), (0, 0, 255), 2)\n",
    "                cv2.rectangle(frame, (left, bottom - 35), (right, bottom), (0, 0, 255), -1)\n",
    "                cv2.putText(frame, name, (left + 6, bottom - 6), cv2.FONT_HERSHEY_DUPLEX, 0.8, (255, 255, 255), 1)\n",
    "\n",
    "            cv2.imshow(\"Face Recognition\", frame)\n",
    "\n",
    "            if cv2.waitKey(1) == ord(\"q\"):\n",
    "                break\n",
    "\n",
    "        video_capture.release()\n",
    "        cv2.destroyAllWindows()\n",
    "\n",
    "\n",
    "\n",
    "\n",
    "if __name__ == \"__main__\":\n",
    "    fr = FaceRecognition()\n",
    "    fr.run_recognition()\n"
   ]
  },
  {
   "cell_type": "code",
   "execution_count": 5,
   "metadata": {},
   "outputs": [],
   "source": [
    "cap = cv2.VideoCapture(0)  # or your video source\n",
    "if not cap.isOpened():\n",
    "    print(\"Error: Could not open video capture\")\n",
    "    exit()\n",
    "\n",
    "ret, frame = cap.read()\n",
    "if not ret or frame is None:\n",
    "    print(\"Error: Could not read frame\")\n",
    "    exit()\n",
    "\n",
    "# Only display if frame has valid dimensions\n",
    "if frame.shape[1] > 0 and frame.shape[0] > 0:\n",
    "    cv2.imshow(\"Face Recognition\", frame)"
   ]
  },
  {
   "cell_type": "code",
   "execution_count": null,
   "metadata": {},
   "outputs": [],
   "source": [
    "backends = [\"opencv\", ]"
   ]
  }
 ],
 "metadata": {
  "kernelspec": {
   "display_name": "SigmaBoys",
   "language": "python",
   "name": "python3"
  },
  "language_info": {
   "codemirror_mode": {
    "name": "ipython",
    "version": 3
   },
   "file_extension": ".py",
   "mimetype": "text/x-python",
   "name": "python",
   "nbconvert_exporter": "python",
   "pygments_lexer": "ipython3",
   "version": "3.10.11"
  }
 },
 "nbformat": 4,
 "nbformat_minor": 2
}
